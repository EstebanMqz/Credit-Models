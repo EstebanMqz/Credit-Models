{
 "cells": [
  {
   "cell_type": "markdown",
   "metadata": {},
   "source": [
    "<p align=\"center\"> <img style=\" margin: 30px 15px 15px 15px;\" src=\"https://pngimage.net/wp-content/uploads/2018/06/logo-iteso-png-5.png\" width=\"350\" height=\"150\" /> \n",
    "    \n",
    "    \n",
    "## <H1 align=\"center\"> <font color='white'> Credit Models </H1>\n",
    "\n",
    "### <H3 align=\"center\"> <font color='white'> Triangle Pascal </H1>\n",
    "\n",
    " <H5 align=\"center\"> <em> Professor: Hernández Mota Rodrigo <em>\n",
    "\n",
    " <strong> <H6 align=\"left\"> Students: <strong>\n",
    "\n",
    " - Durrmuller Acosta Ana Sofia (IF723389)\n",
    " - Lazareno López, Diego Alberto (IF722100)\n",
    " - Márquez Delgado Esteban  (IF700637) \n",
    "\n",
    " Date: August 30, 2022\n",
    "\n",
    " <center> <font color= #555555> <font size = 4> Ago 2022 </a> | <font color= #555555> <font size = 4> Repository: <a href=''>Link</a></font>"
   ]
  },
  {
   "cell_type": "markdown",
   "metadata": {},
   "source": [
    "### Pascal triangle problems.\n",
    "\n",
    "*Note:* Send your solution team member info (name, email, student, github profile) to rodrigohm@iteso.mx"
   ]
  },
  {
   "cell_type": "markdown",
   "metadata": {},
   "source": [
    "Libraries"
   ]
  },
  {
   "cell_type": "code",
   "execution_count": 72,
   "metadata": {},
   "outputs": [],
   "source": [
    "from math import factorial\n",
    "from math import comb"
   ]
  },
  {
   "cell_type": "markdown",
   "metadata": {},
   "source": [
    "1. Create a function to print the pascal triangle."
   ]
  },
  {
   "cell_type": "code",
   "execution_count": 71,
   "metadata": {},
   "outputs": [
    {
     "name": "stdout",
     "output_type": "stream",
     "text": [
      "                     1,\n",
      "                    1,1,\n",
      "                   1,2,1,\n",
      "                  1,3,3,1,\n",
      "                 1,4,6,4,1,\n",
      "                1,5,10,10,5,1,\n",
      "               1,6,15,20,15,6,1,\n",
      "              1,7,21,35,35,21,7,1,\n",
      "             1,8,28,56,70,56,28,8,1,\n",
      "            1,9,36,84,126,126,84,36,9,1,\n",
      "           1,10,45,120,210,252,210,120,45,10,1,\n",
      "          1,11,55,165,330,462,462,330,165,55,11,1,\n",
      "         1,12,66,220,495,792,924,792,495,220,66,12,1,\n",
      "        1,13,78,286,715,1287,1716,1716,1287,715,286,78,13,1,\n",
      "       1,14,91,364,1001,2002,3003,3432,3003,2002,1001,364,91,14,1,\n",
      "      1,15,105,455,1365,3003,5005,6435,6435,5005,3003,1365,455,105,15,1,\n",
      "     1,16,120,560,1820,4368,8008,11440,12870,11440,8008,4368,1820,560,120,16,1,\n",
      "    1,17,136,680,2380,6188,12376,19448,24310,24310,19448,12376,6188,2380,680,136,17,1,\n",
      "   1,18,153,816,3060,8568,18564,31824,43758,48620,43758,31824,18564,8568,3060,816,153,18,1,\n",
      "  1,19,171,969,3876,11628,27132,50388,75582,92378,92378,75582,50388,27132,11628,3876,969,171,19,1,\n"
     ]
    }
   ],
   "source": [
    "# Levels\n",
    "def pascal_triangle(lv):\n",
    "    for m in range(lv): #Row loop (print m(lv) rows)\n",
    "        for n in range(lv-m+1): #Columns loop (print (lv) rows)\n",
    "            print(end=\" \") #end:New line.\n",
    "        for j in range(m+1):\n",
    "            print(factorial(m)//(factorial(j)*factorial(m-j)), end=\",\") #P.t(i,j)= nCr = n!/((n-r)!*r!)\n",
    "        print()\n",
    "\n",
    "pascal_triangle(20)"
   ]
  },
  {
   "cell_type": "markdown",
   "metadata": {},
   "source": [
    "2. Create a function to retrive an arbitrary element (get_element(1,j))"
   ]
  },
  {
   "cell_type": "code",
   "execution_count": 88,
   "metadata": {},
   "outputs": [
    {
     "name": "stdout",
     "output_type": "stream",
     "text": [
      "Posición invalida\n"
     ]
    }
   ],
   "source": [
    "def get_element(i,j):\n",
    "    x=comb(i-1,j-1) # P.t formula, -1: Start in pos. 1\n",
    "    if x == 0: \n",
    "        print(\"Posición invalida\")\n",
    "    else:\n",
    "        print(x)\n",
    "\n",
    "get_element(1,3)\n"
   ]
  }
 ],
 "metadata": {
  "kernelspec": {
   "display_name": "Python 3.8.13 ('base')",
   "language": "python",
   "name": "python3"
  },
  "language_info": {
   "codemirror_mode": {
    "name": "ipython",
    "version": 3
   },
   "file_extension": ".py",
   "mimetype": "text/x-python",
   "name": "python",
   "nbconvert_exporter": "python",
   "pygments_lexer": "ipython3",
   "version": "3.8.13"
  },
  "orig_nbformat": 4,
  "vscode": {
   "interpreter": {
    "hash": "ad2bdc8ecc057115af97d19610ffacc2b4e99fae6737bb82f5d7fb13d2f2c186"
   }
  }
 },
 "nbformat": 4,
 "nbformat_minor": 2
}
