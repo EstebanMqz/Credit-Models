{
 "cells": [
  {
   "cell_type": "markdown",
   "metadata": {},
   "source": [
    "<p align=\"center\"> <img style=\" margin: 30px 15px 15px 15px;\" src=\"https://pngimage.net/wp-content/uploads/2018/06/logo-iteso-png-5.png\" width=\"350\" height=\"150\" /> \n",
    "    \n",
    "    \n",
    "## <H1 align=\"center\"> <font color='white'> Credit Models </H1>\n",
    "\n",
    "### <H3 align=\"center\"> <font color='white'> Triangle Pascal </H1>\n",
    "\n",
    " <H5 align=\"center\"> <em> Professor: Hernández Mota Rodrigo <em>\n",
    "\n",
    " <strong> <H6 align=\"left\"> Students: <strong>\n",
    "\n",
    " - Durrmuller Acosta Ana Sofia <font size = 1>, Github: <a href='https://github.com/anadurrmuller'>Link</a></font> <font size = 1>, e-mail: <a href='if723489@iteso.mx'>if723489@iteso.mx</a></font> <H6 align=\"left\">\n",
    " - Lazareno López, Diego Alberto <font size = 1>, Github: <a href='https://github.com/diegolazareno'>Link</a></font> <font size = 1>, e-mail: <a href='if722100@iteso.mx'>if722100@iteso.mx</a></font><H6 align=\"left\">\n",
    " - Márquez Delgado Esteban <font size = 1>, Github: <a href='https://github.com/EstebanMqz/'>Link</a></font> <font size = 1>, e-mail: <a href='if700637@iteso.mx'>if700637@iteso.mx</a></font> <H6 align=\"left\">\n",
    "\n",
    " Date: August 30, 2022\n",
    "\n",
    " <center> <font color= #555555> <font size = 4> Ago 2022 </a> | <font color= #555555> <font size = 4> Repository: <a href='https://github.com/EstebanMqz/Credit-Models/blob/main/Pascal%20Triangle_Lazareno%2C%20Durrmuller%2C%20Márquez.ipynb'>Link</a></font>\n"
   ]
  },
  {
   "cell_type": "markdown",
   "metadata": {},
   "source": [
    "### Pascal triangle problems.\n",
    "\n",
    "*Note:* Send your solution team member info (name, email, student, github profile) to rodrigohm@iteso.mx"
   ]
  },
  {
   "cell_type": "markdown",
   "metadata": {},
   "source": [
    "Libraries"
   ]
  },
  {
   "cell_type": "code",
   "execution_count": 1,
   "metadata": {},
   "outputs": [
    {
     "data": {
      "text/plain": [
       "[[1],\n",
       " [1, 1],\n",
       " [1, 2, 1],\n",
       " [1, 3, 3, 1],\n",
       " [1, 4, 6, 4, 1],\n",
       " [1, 5, 10, 10, 5, 1],\n",
       " [1, 6, 15, 20, 15, 6, 1],\n",
       " [1, 7, 21, 35, 35, 21, 7, 1],\n",
       " [1, 8, 28, 56, 70, 56, 28, 8, 1],\n",
       " [1, 9, 36, 84, 126, 126, 84, 36, 9, 1]]"
      ]
     },
     "execution_count": 1,
     "metadata": {},
     "output_type": "execute_result"
    }
   ],
   "source": [
    "class PascalTriangle:\n",
    "    \n",
    "    def __init__(self, levels):\n",
    "        self.levels = levels\n",
    "        \n",
    "        pascalTriangle = [[1], [1, 1], [1, 2, 1]]\n",
    "\n",
    "        for i in range(len(pascalTriangle), levels):\n",
    "            numbers = [1]\n",
    "\n",
    "            for j in range(len(pascalTriangle[i - 1]) - 1):\n",
    "                if j == len(pascalTriangle) - 2:\n",
    "                    numbers.append(pascalTriangle[i - 1][j] + 1)    \n",
    "                else:\n",
    "                    numbers.append(pascalTriangle[i - 1][j] + pascalTriangle[i - 1][j + 1])\n",
    "        \n",
    "            numbers.append(1)\n",
    "            pascalTriangle.append(numbers)\n",
    "        \n",
    "        self.pascalTriangle = pascalTriangle[0 : levels]\n",
    "        \n",
    "    def get_element(self, i, j):\n",
    "        try:\n",
    "            print(\"Your arbitrary element is: \", self.pascalTriangle[i][j])\n",
    "        except:\n",
    "            print(\"Your arbitrary element is: \", 0, \"; try with another index (i) and column (j)\")\n",
    "            \n",
    "    def show_triangle(self, level):\n",
    "        print(self.pascalTriangle[0 : level])\n",
    "        \n",
    "pt = PascalTriangle(levels = 10)\n",
    "pt.pascalTriangle"
   ]
  },
  {
   "cell_type": "markdown",
   "metadata": {},
   "source": [
    "1. Create a function to print the pascal triangle."
   ]
  },
  {
   "cell_type": "code",
   "execution_count": 2,
   "metadata": {},
   "outputs": [
    {
     "name": "stdout",
     "output_type": "stream",
     "text": [
      "[[1], [1, 1], [1, 2, 1], [1, 3, 3, 1], [1, 4, 6, 4, 1]]\n"
     ]
    }
   ],
   "source": [
    "# Levels\n",
    "pt.show_triangle(5)"
   ]
  },
  {
   "cell_type": "markdown",
   "metadata": {},
   "source": [
    "2. Create a function to retrive an arbitrary element (get_element(1,j))"
   ]
  },
  {
   "cell_type": "code",
   "execution_count": 3,
   "metadata": {},
   "outputs": [
    {
     "name": "stdout",
     "output_type": "stream",
     "text": [
      "Your arbitrary element is:  15\n"
     ]
    }
   ],
   "source": [
    "pt.get_element(6, 2)"
   ]
  }
 ],
 "metadata": {
  "kernelspec": {
   "display_name": "Python 3",
   "language": "python",
   "name": "python3"
  },
  "language_info": {
   "codemirror_mode": {
    "name": "ipython",
    "version": 3
   },
   "file_extension": ".py",
   "mimetype": "text/x-python",
   "name": "python",
   "nbconvert_exporter": "python",
   "pygments_lexer": "ipython3",
   "version": "3.8.5"
  },
  "vscode": {
   "interpreter": {
    "hash": "ad2bdc8ecc057115af97d19610ffacc2b4e99fae6737bb82f5d7fb13d2f2c186"
   }
  }
 },
 "nbformat": 4,
 "nbformat_minor": 2
}
