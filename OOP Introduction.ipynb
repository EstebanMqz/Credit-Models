{
 "cells": [
  {
   "cell_type": "markdown",
   "metadata": {},
   "source": [
    "<p align=\"center\"> <img style=\" margin: 30px 15px 15px 15px;\" src=\"https://pngimage.net/wp-content/uploads/2018/06/logo-iteso-png-5.png\" width=\"350\" height=\"150\" /> \n",
    "    \n",
    "    \n",
    "## <H1 align=\"center\"> <font color='white'> Credit Models </H1>\n",
    "\n",
    "### <H3 align=\"center\"> <font color='white'> Oriented Object Programming </H1>\n",
    "\n",
    " <H5 align=\"center\"> <em> Professor: Hernández Mota Rodrigo <em>\n",
    "\n",
    " <strong> <H5 align=\"right\"> Student: Márquez Delgado Esteban <strong>\n",
    "\n",
    " *Registry*: if700637\n",
    "\n",
    " Date: August 26, 2022\n",
    "\n",
    " <center> <font color= #555555> <font size = 4> Ago 2022 </a> | <font color= #555555> <font size = 4> Repository: <a href='https://github.com/EstebanMqz/Credit-Models'>Link</a></font>"
   ]
  },
  {
   "cell_type": "markdown",
   "metadata": {},
   "source": [
    "OOP Paradigm\n",
    "\n",
    "The advantage of OOP  is that one structure calls another."
   ]
  },
  {
   "cell_type": "markdown",
   "metadata": {},
   "source": [
    "Example without OOP"
   ]
  },
  {
   "cell_type": "code",
   "execution_count": null,
   "metadata": {},
   "outputs": [
    {
     "name": "stdout",
     "output_type": "stream",
     "text": [
      "Hello, my name is Alice\n"
     ]
    }
   ],
   "source": [
    "\n",
    "student = {\n",
    "    \"name\": \"Alice\",\n",
    "    \"age\": 23\n",
    "}\n",
    "def greeting(student):\n",
    "    name= student[\"name\"]\n",
    "    print(f\"Hello, my name is {name}\")\n",
    "\n",
    "greeting(student)"
   ]
  },
  {
   "cell_type": "markdown",
   "metadata": {},
   "source": [
    "Equivalent with OOP"
   ]
  },
  {
   "cell_type": "code",
   "execution_count": null,
   "metadata": {},
   "outputs": [
    {
     "name": "stdout",
     "output_type": "stream",
     "text": [
      "Hello, my name is Alice\n",
      "Hello, my name is Bob\n"
     ]
    }
   ],
   "source": [
    "# Método de instancia (solo se puede ejecutar en una instancia a través de un objeto, no se puede llamar a trvaés de una clase porque la clase de estudiante no tiene un nombre asociado)\n",
    "class Student:\n",
    "\n",
    "    def __init__(self, name, age): #Atributos\n",
    "      self.name = name #Implementar un sintáxis especial necesaria.\n",
    "      self.age = age #Self hace referencia a los atributos.\n",
    "\n",
    "    def greeting(self):\n",
    "      print(f\"Hello, my name is {self.name}\")\n",
    "\n",
    "#One class can have multiple instances (objects).\n",
    "\n",
    "student_a = Student(name =\"Alice\", age=23) #Instancia 1\n",
    "student_b = Student(name =\"Bob\", age=22) #Instancia 2\n",
    "\n",
    "#El método de instancia dependen de los objetos.\n",
    "student_a.greeting()\n",
    "student_b.greeting()"
   ]
  },
  {
   "cell_type": "code",
   "execution_count": null,
   "metadata": {},
   "outputs": [
    {
     "name": "stdout",
     "output_type": "stream",
     "text": [
      "(OOP) Hello, I am professor X\n"
     ]
    }
   ],
   "source": [
    "#Equivalent with OOP: Método de Clases (Se puede llamar al nivel de la clase o al nivel de la instancia)\n",
    "class Human:\n",
    "\n",
    "    def __init__(self, name, age):\n",
    "      self.name = name #Implementar un sintáxis especial necesaria.\n",
    "      self.age = age #Self hace referencia a los atributos.\n",
    "\n",
    "    def greeting(self):\n",
    "        raise NotImplementedError\n",
    "\n",
    "class Professor(Human):\n",
    "\n",
    "  def __init__(self, name, age, course):\n",
    "    if age<30:\n",
    "      raise ValueError(\"Professor should be older than 30\")\n",
    "    self.course = course\n",
    "    super().__init__(name, age)\n",
    "\n",
    "  def greeting(self):\n",
    "      print(f\"(OOP) Hello, I am professor {self.name}\")\n",
    "\n",
    "professor_1 = Professor(\"X\", 31, \"CR\")\n",
    "professor_1.greeting()\n"
   ]
  },
  {
   "cell_type": "markdown",
   "metadata": {},
   "source": [
    "OOP Class Method"
   ]
  },
  {
   "cell_type": "code",
   "execution_count": null,
   "metadata": {},
   "outputs": [
    {
     "name": "stdout",
     "output_type": "stream",
     "text": [
      "Hello, my name is Alice\n",
      "Hello, my name is Carol\n"
     ]
    }
   ],
   "source": [
    "# Class Method (Can be called at the class level or at the instance level).\n",
    "class Student:\n",
    "\n",
    "    def __init__(self, name, age, course): #Attributes\n",
    "      self.name = name #Implement a special syntax needed.\n",
    "      self.age = age #Self refers to attributes.\n",
    "      self.course = course\n",
    "\n",
    "    def greeting(self):\n",
    "      print(f\"Hello, my name is {self.name}\")\n",
    "\n",
    "    @classmethod\n",
    "    def from_credit_risk(cls, name, age):\n",
    "        return cls(name, age, \"credit risk\")\n",
    "\n",
    "\n",
    "#One class can have multiple instances (objects).\n",
    "\n",
    "student_a = Student(name =\"Alice\", age=23, course= \"example\") #Instance 1\n",
    "student_b = Student(name =\"Bob\", age=22, course= \"example\") #Instance 2\n",
    "\n",
    "#The instance method depend on the objects.\n",
    "student_a.greeting()\n",
    "\n",
    "#Class methods can be called.\n",
    "student_c = Student.from_credit_risk(\"Carol\", 24)\n",
    "student_c.greeting()"
   ]
  },
  {
   "cell_type": "markdown",
   "metadata": {},
   "source": [
    "Static Method"
   ]
  },
  {
   "cell_type": "code",
   "execution_count": 9,
   "metadata": {},
   "outputs": [
    {
     "name": "stdout",
     "output_type": "stream",
     "text": [
      "Hello, my name is Alice\n",
      "Hello, my name is Carol\n"
     ]
    }
   ],
   "source": [
    "## Class Method (Can be called at the class level or at the instance level).\n",
    "class Student:\n",
    "\n",
    "    def __init__(self, name, age, course): #Attributes.\n",
    "      self.name = name #Implement a special syntax needed.\n",
    "      self.age = age #Self refers to attributes.\n",
    "      self.course = course\n",
    "\n",
    "    def greeting(self):\n",
    "      print(f\"Hello, my name is {self.name}\")\n",
    "\n",
    "    @classmethod #Transform the method to a class method.\n",
    "    def from_credit_risk(cls, name, age):\n",
    "        return cls(name, age, \"credit risk\")\n",
    "\n",
    "    @staticmethod #Transform the method to a static method, you can use one over another if you need to access the class definition, if it's just an indep operation. just like static, setting it to both is almost equivalent.\n",
    "    def test():\n",
    "      print(\"test\")\n",
    "\n",
    "#One class can have multiple instances (objects).\n",
    "\n",
    "student_a = Student(name =\"Alice\", age=23, course= \"example\") #Instance 1\n",
    "student_b = Student(name =\"Bob\", age=22, course= \"example\") #Instance 2\n",
    "\n",
    "#The instance method depend on the objects.\n",
    "student_a.greeting()\n",
    "\n",
    "#Class methods can be called.\n",
    "student_c = Student.from_credit_risk(\"Carol\", 24)\n",
    "student_c.greeting()\n"
   ]
  },
  {
   "cell_type": "code",
   "execution_count": 10,
   "metadata": {},
   "outputs": [],
   "source": [
    "#Mmutable operation uses fewer resources but is more error prone.\n",
    "list_a = [1,2,3]\n",
    "list_a.append(4)\n",
    "list_b = list_a"
   ]
  },
  {
   "cell_type": "code",
   "execution_count": 11,
   "metadata": {},
   "outputs": [],
   "source": [
    "#Immutable operation, we have double the info. than in the mutable operation because the first one was reused, and we would use it then because it gives us security but consumes more resources.\n",
    "list_c = [1,2,3]\n",
    "list_d = list_c + [4]"
   ]
  },
  {
   "cell_type": "code",
   "execution_count": 12,
   "metadata": {},
   "outputs": [
    {
     "name": "stdout",
     "output_type": "stream",
     "text": [
      "<__main__.Example object at 0x000002329F931C10>\n",
      "This is a string\n",
      "<class '__main__.Example'>\n",
      "<class 'str'>\n",
      "This is a function call\n"
     ]
    }
   ],
   "source": [
    "class Example:\n",
    "\n",
    "    \n",
    "    def __init__(self, x): #The init is to pass from the class to the object.\n",
    "        self.x = x\n",
    "\n",
    "    def __call__(self):\n",
    "        print(\"This is a function call\")\n",
    "\n",
    "\n",
    "\n",
    "example_1= Example(x=1)\n",
    "example_2 = \"This is a string\"\n",
    "\n",
    "\n",
    "\n",
    "\n",
    "print(example_1)\n",
    "print(example_2)\n",
    "\n",
    "print(type(example_1))\n",
    "print(type(example_2))\n",
    "\n",
    "example_1() #We can then call it as a function.\n"
   ]
  },
  {
   "cell_type": "markdown",
   "metadata": {},
   "source": [
    "*Mypy is a library that helps us to validate that the construction of the codes is correct, consistency of data types.*"
   ]
  },
  {
   "cell_type": "code",
   "execution_count": 2,
   "metadata": {},
   "outputs": [
    {
     "ename": "IndentationError",
     "evalue": "unindent does not match any outer indentation level (<tokenize>, line 3)",
     "output_type": "error",
     "traceback": [
      "\u001b[1;36m  File \u001b[1;32m<tokenize>:3\u001b[1;36m\u001b[0m\n\u001b[1;33m    def __init__(\u001b[0m\n\u001b[1;37m    ^\u001b[0m\n\u001b[1;31mIndentationError\u001b[0m\u001b[1;31m:\u001b[0m unindent does not match any outer indentation level\n"
     ]
    }
   ],
   "source": [
    "#Unfinished\n",
    "class CashFlow:\n",
    "    DEFAULT_RATE=.0979\n",
    "   def __init__(\n",
    "     self,\n",
    "     amount; float,\n",
    "     t:int,\n",
    "     ):\n",
    "\n",
    "\n",
    "        self.amount = amount\n",
    "    self.t = T\n",
    "\n",
    "    def present_value(self, r:float) -> \"CashFlow\":\n",
    "        return CashFlow(\n",
    "        amount= self.amount * (1+r)**(-self.t),\n",
    "        t=0\n",
    "      )\n",
    "\n",
    "    def move(r:float, t:int):\n",
    "        pv_amount = self.present_value(r=r).amount\n",
    "        return CashFlow(\n",
    "            amount=pv_amount*(1+r)**t,\n",
    "            t=t\n",
    "       )\n",
    "        return f\"CF{self.amount},{self.t})\"\n",
    "\n",
    "\n",
    "        def __add__(self, other: \"CashFlow\") -> \"CashFlow\":\n",
    "            return CashFlow()\n",
    "            first_amount=self.present_value(r=self.DEFAULT_RATE).amount\n",
    "            second_amount = other.present_value(r=self.DEFAULT_RATE).amount\n",
    "            return CashFlow(\n",
    "              amount=first_amount + second_amount,\n",
    "              t=0\n",
    "\n",
    "\n",
    "        def move(t=self.t, r=self.DEFAULT_RATE)\n",
    "        \n",
    "            t=0\n",
    "            )\n",
    "\n",
    "\n",
    "\n",
    "    def __repr__(self) -> str:\n",
    "        return f\"CF{self.amount},{self.t})\"\n",
    "\n",
    "cf_1= CashFlow(100,2)\n",
    "cf_2= CashFlow(50,3)\n",
    "cf_3 = cf_1.present_value(r=0.08)\n",
    "cf_4 = cf_2 + cf_1\n",
    "\n"
   ]
  }
 ],
 "metadata": {
  "kernelspec": {
   "display_name": "Python 3.8.13 ('base')",
   "language": "python",
   "name": "python3"
  },
  "language_info": {
   "codemirror_mode": {
    "name": "ipython",
    "version": 3
   },
   "file_extension": ".py",
   "mimetype": "text/x-python",
   "name": "python",
   "nbconvert_exporter": "python",
   "pygments_lexer": "ipython3",
   "version": "3.8.13"
  },
  "orig_nbformat": 4,
  "vscode": {
   "interpreter": {
    "hash": "ad2bdc8ecc057115af97d19610ffacc2b4e99fae6737bb82f5d7fb13d2f2c186"
   }
  }
 },
 "nbformat": 4,
 "nbformat_minor": 2
}
