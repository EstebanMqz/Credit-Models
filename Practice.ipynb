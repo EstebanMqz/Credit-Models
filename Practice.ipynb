{
 "cells": [
  {
   "cell_type": "markdown",
   "metadata": {},
   "source": [
    "<p align=\"center\"> <img style=\" margin: 30px 15px 15px 15px;\" src=\"https://pngimage.net/wp-content/uploads/2018/06/logo-iteso-png-5.png\" width=\"350\" height=\"150\" /> \n",
    "    \n",
    "    \n",
    "## <H1 align=\"center\"> <font color='white'> Credit Models </H1>\n",
    "\n",
    "### <H3 align=\"center\"> <font color='white'> Practice </H1>\n",
    "\n",
    " <H5 align=\"center\"> <em> Professor: Hernández Mota Rodrigo <em>\n",
    "\n",
    " <strong> <H5 align=\"right\"> Student: Márquez Delgado Esteban <strong>\n",
    "\n",
    " *Registry*: if700637\n",
    "\n",
    " Date: August 26, 2022\n",
    "\n",
    " <center> <font color= #555555> <font size = 4> Ago 2022 </a> | <font color= #555555> <font size = 4> Repository: <a href='https://github.com/EstebanMqz/Credit-Models/blob/main/Practice.ipynb'>Link</a></font>"
   ]
  },
  {
   "cell_type": "markdown",
   "metadata": {},
   "source": [
    "Using plain python create a sample (list) of 10,000 random integers from 1 to 10 (inclsuive) where the odd numbers frequency is approximately tqice the even numbers frequency."
   ]
  },
  {
   "cell_type": "code",
   "execution_count": 21,
   "metadata": {},
   "outputs": [
    {
     "data": {
      "text/plain": [
       "(array([0.14533333, 0.14933333, 0.14977778, 0.07788889, 0.14877778,\n",
       "        0.07677778, 0.14577778, 0.074     , 0.07166667, 0.07177778]),\n",
       " array([0. , 0.9, 1.8, 2.7, 3.6, 4.5, 5.4, 6.3, 7.2, 8.1, 9. ]),\n",
       " <BarContainer object of 10 artists>)"
      ]
     },
     "execution_count": 21,
     "metadata": {},
     "output_type": "execute_result"
    },
    {
     "data": {
      "image/png": "[encoded data removed]",
      "text/plain": [
       "<Figure size 432x288 with 1 Axes>"
      ]
     },
     "metadata": {
      "needs_background": "light"
     },
     "output_type": "display_data"
    }
   ],
   "source": [
    "\n",
    "from collections import Counter\n",
    "import numpy as np\n",
    "import pandas as pd\n",
    "import random\n",
    "import matplotlib.pyplot as plt\n",
    "\n",
    "even = [\"2\",\"4\",\"6\",\"8\",\"10\"] #define even numbers.\n",
    "odd = ['1','3','5','7','9']# define odd numbers.\n",
    "x = even * int(667.0) + odd * int(1333.0) #set up prob in 10k\n",
    "y= [random.choice(x) for _ in range(10000)]\n",
    "y[0:10]\n",
    "plt.hist(y, density=True)\n"
   ]
  },
  {
   "cell_type": "markdown",
   "metadata": {},
   "source": [
    "Get the frequency of apperance for each element on the last sample."
   ]
  },
  {
   "cell_type": "code",
   "execution_count": 24,
   "metadata": {},
   "outputs": [
    {
     "data": {
      "text/plain": [
       "Counter({'7': 1308,\n",
       "         '9': 1344,\n",
       "         '3': 1348,\n",
       "         '2': 701,\n",
       "         '1': 1339,\n",
       "         '10': 691,\n",
       "         '5': 1312,\n",
       "         '8': 666,\n",
       "         '4': 645,\n",
       "         '6': 646})"
      ]
     },
     "execution_count": 24,
     "metadata": {},
     "output_type": "execute_result"
    }
   ],
   "source": [
    "c = Counter(y)\n",
    "c"
   ]
  }
 ],
 "metadata": {
  "kernelspec": {
   "display_name": "Python 3.8.13 ('base')",
   "language": "python",
   "name": "python3"
  },
  "language_info": {
   "codemirror_mode": {
    "name": "ipython",
    "version": 3
   },
   "file_extension": ".py",
   "mimetype": "text/x-python",
   "name": "python",
   "nbconvert_exporter": "python",
   "pygments_lexer": "ipython3",
   "version": "3.8.13"
  },
  "orig_nbformat": 4,
  "vscode": {
   "interpreter": {
    "hash": "ad2bdc8ecc057115af97d19610ffacc2b4e99fae6737bb82f5d7fb13d2f2c186"
   }
  }
 },
 "nbformat": 4,
 "nbformat_minor": 2
}
